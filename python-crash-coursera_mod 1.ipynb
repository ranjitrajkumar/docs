{
  "nbformat": 4,
  "nbformat_minor": 0,
  "metadata": {
    "colab": {
      "provenance": [],
      "authorship_tag": "ABX9TyPATbN3FqAMk4uzBRc/3/qg",
      "include_colab_link": true
    },
    "kernelspec": {
      "name": "python3",
      "display_name": "Python 3"
    },
    "language_info": {
      "name": "python"
    }
  },
  "cells": [
    {
      "cell_type": "markdown",
      "metadata": {
        "id": "view-in-github",
        "colab_type": "text"
      },
      "source": [
        "<a href=\"https://colab.research.google.com/github/ranjitrajkumar/docs/blob/main/python-crash-coursera_mod%201.ipynb\" target=\"_parent\"><img src=\"https://colab.research.google.com/assets/colab-badge.svg\" alt=\"Open In Colab\"/></a>"
      ]
    },
    {
      "cell_type": "code",
      "execution_count": 5,
      "metadata": {
        "colab": {
          "base_uri": "https://localhost:8080/"
        },
        "id": "sHHaYt5104P8",
        "outputId": "b3c4150d-dc69-4cd2-8a3f-a321cd698652"
      },
      "outputs": [
        {
          "output_type": "stream",
          "name": "stdout",
          "text": [
            "hello,world\n"
          ]
        }
      ],
      "source": [
        "print (\"hello,world\")\n"
      ]
    },
    {
      "cell_type": "code",
      "source": [
        "# prompt:\n",
        "\n",
        "print (\"hello,world\")\n",
        "\n",
        "print (360)\n",
        "print (16*2)\n",
        "value = 2*8\n",
        "print (value)"
      ],
      "metadata": {
        "colab": {
          "base_uri": "https://localhost:8080/"
        },
        "id": "1I5yMePT1JFd",
        "outputId": "2523bf80-edf3-473a-9052-ccd2be8e910f"
      },
      "execution_count": 4,
      "outputs": [
        {
          "output_type": "stream",
          "name": "stdout",
          "text": [
            "hello,world\n",
            "360\n",
            "32\n",
            "16\n"
          ]
        }
      ]
    },
    {
      "cell_type": "code",
      "source": [
        "print(3*8/2+5-1)\n",
        "\n",
        "print(4**6)\n",
        "print(4**2)\n",
        "print(4**3)\n",
        "print(4**0.5)\n",
        "x = 4\n",
        "y = 26\n",
        "print(y**x)"
      ],
      "metadata": {
        "colab": {
          "base_uri": "https://localhost:8080/"
        },
        "id": "aC8wDwUe_VFw",
        "outputId": "207abbad-a41c-4e49-cb42-2d5cacc299b7"
      },
      "execution_count": 1,
      "outputs": [
        {
          "output_type": "stream",
          "name": "stdout",
          "text": [
            "16.0\n",
            "4096\n",
            "16\n",
            "64\n",
            "2.0\n",
            "456976\n"
          ]
        }
      ]
    }
  ]
}